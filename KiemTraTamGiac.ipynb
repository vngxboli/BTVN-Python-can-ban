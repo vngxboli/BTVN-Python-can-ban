{
 "cells": [
  {
   "cell_type": "code",
   "execution_count": 5,
   "id": "10b5f542",
   "metadata": {},
   "outputs": [
    {
     "name": "stdout",
     "output_type": "stream",
     "text": [
      "True\n",
      "False\n",
      "False\n",
      "False\n"
     ]
    }
   ],
   "source": [
    "#khai báo biến tọa độ 3 điểm\n",
    "import math\n",
    "xA = 0\n",
    "yA = 3\n",
    "xB = 2\n",
    "yB = -4\n",
    "xC = -3\n",
    "yC = 5\n",
    "\n",
    "#tính độ dài 3 cạnh AB, AC, BC\n",
    "a = math.sqrt(((xB-xA)**2)+((yB-yA)**2))\n",
    "b = math.sqrt(((xC-xA)**2)+((yC-yA)**2))\n",
    "c = math.sqrt(((xC-xB)**2)+((yC-yB)**2))\n",
    "\n",
    "#kiểm tra 3 cạnh trên có tạo thành tam giác không? ==> phải thỏa mãn điều kiện là tổng hai cạnh bất kì luôn lớn hơn cạnh còn lại\n",
    "d = (a+b) > c and (a+c) > b and (b+c) > a\n",
    "print(d)\n",
    "\n",
    "#kiểm tra loại tam giác\n",
    "(tamgiaccan) = a==c or a==b or b==c\n",
    "print(tamgiaccan)\n",
    "\n",
    "(tamgiacvuong) = ((a**2)+(c**2))==(b**2) or ((a**2)+(b**2))==(c**2) or ((b**2)+(c**2))==(a**2)\n",
    "print(tamgiacvuong)\n",
    "\n",
    "(tamgiacdeu) = a==b==c\n",
    "print(tamgiacdeu)"
   ]
  },
  {
   "cell_type": "code",
   "execution_count": 6,
   "id": "a743eb06",
   "metadata": {},
   "outputs": [
    {
     "data": {
      "text/plain": [
       "'C:\\\\Users\\\\user'"
      ]
     },
     "execution_count": 6,
     "metadata": {},
     "output_type": "execute_result"
    }
   ],
   "source": [
    "pwd"
   ]
  },
  {
   "cell_type": "code",
   "execution_count": null,
   "id": "829cc369",
   "metadata": {},
   "outputs": [],
   "source": []
  }
 ],
 "metadata": {
  "kernelspec": {
   "display_name": "Python 3 (ipykernel)",
   "language": "python",
   "name": "python3"
  },
  "language_info": {
   "codemirror_mode": {
    "name": "ipython",
    "version": 3
   },
   "file_extension": ".py",
   "mimetype": "text/x-python",
   "name": "python",
   "nbconvert_exporter": "python",
   "pygments_lexer": "ipython3",
   "version": "3.9.7"
  }
 },
 "nbformat": 4,
 "nbformat_minor": 5
}
