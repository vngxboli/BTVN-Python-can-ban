{
 "cells": [
  {
   "cell_type": "code",
   "execution_count": 13,
   "id": "725645ed",
   "metadata": {},
   "outputs": [
    {
     "name": "stdout",
     "output_type": "stream",
     "text": [
      "Nhập 1 số bất kỳ: 12\n",
      "Lỗi nhập dữ liệu đầu vào\n"
     ]
    }
   ],
   "source": [
    "#Bài 3: Nhập 1 số tự nhiên từ 0-6, nếu 0 in ra thứ 2, 1 in ra thứ 3, cứ như thế, 6 thì in chủ nhật. \n",
    "#Ngoài phạm vi 0-6 in ra là lỗi nhập dữ liệu đầu vào\n",
    "\n",
    "num = int(input(\"Nhập 1 số bất kỳ: \"))\n",
    "\n",
    "if num > 6 or num < 0:\n",
    "    print(\"Lỗi nhập dữ liệu đầu vào\")\n",
    "else:\n",
    "    if num == 0:\n",
    "        print(\"Thứ 2\")\n",
    "    elif num == 1:\n",
    "        print(\"Thứ 3\")\n",
    "    elif num == 2:\n",
    "        print(\"Thứ 4\")\n",
    "    elif num == 3:\n",
    "        print(\"Thứ 5\")\n",
    "    elif num == 4:\n",
    "        print(\"Thứ 6\")\n",
    "    elif num == 5:\n",
    "        print(\"Thứ 6\")\n",
    "    else:\n",
    "        print(\"Chủ Nhật\")"
   ]
  }
 ],
 "metadata": {
  "kernelspec": {
   "display_name": "Python 3 (ipykernel)",
   "language": "python",
   "name": "python3"
  },
  "language_info": {
   "codemirror_mode": {
    "name": "ipython",
    "version": 3
   },
   "file_extension": ".py",
   "mimetype": "text/x-python",
   "name": "python",
   "nbconvert_exporter": "python",
   "pygments_lexer": "ipython3",
   "version": "3.9.7"
  }
 },
 "nbformat": 4,
 "nbformat_minor": 5
}
