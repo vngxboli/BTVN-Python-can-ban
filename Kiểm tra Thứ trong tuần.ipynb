{
 "cells": [
  {
   "cell_type": "code",
   "execution_count": 7,
   "id": "725645ed",
   "metadata": {
    "scrolled": true
   },
   "outputs": [
    {
     "name": "stdout",
     "output_type": "stream",
     "text": [
      "2022-04-11 00:00:00\n",
      "0\n",
      "Thứ 2\n"
     ]
    }
   ],
   "source": [
    "#Bài 3: Nhập 1 số tự nhiên từ 0-6, nếu 0 in ra thứ 2, 1 in ra thứ 3, cứ như thế, 6 thì in chủ nhật. \n",
    "#Ngoài phạm vi 0-6 in ra là lỗi nhập dữ liệu đầu vào\n",
    "\n",
    "import datetime\n",
    "\n",
    "day = 11\n",
    "month = 4\n",
    "year = 2022\n",
    "\n",
    "mydate = datetime.datetime(year, month, day)\n",
    "\n",
    "print(mydate)\n",
    "\n",
    "weekday = mydate.weekday()\n",
    "print(weekday)\n",
    "\n",
    "if weekday > 6 or weekday < 0:\n",
    "    print(\"Lỗi nhập dữ liệu đầu vào\")\n",
    "else:\n",
    "    if weekday == 0:\n",
    "        print(\"Thứ 2\")\n",
    "    elif weekday == 1:\n",
    "        print(\"Thứ 3\")\n",
    "    elif weekday == 2:\n",
    "        print(\"Thứ 4\")\n",
    "    elif weekday == 3:\n",
    "        print(\"Thứ 5\")\n",
    "    elif weekday == 4:\n",
    "        print(\"Thứ 6\")\n",
    "    elif weekday == 5:\n",
    "        print(\"Thứ 6\")\n",
    "    else:\n",
    "        print(\"Chủ Nhật\")"
   ]
  }
 ],
 "metadata": {
  "kernelspec": {
   "display_name": "Python 3 (ipykernel)",
   "language": "python",
   "name": "python3"
  },
  "language_info": {
   "codemirror_mode": {
    "name": "ipython",
    "version": 3
   },
   "file_extension": ".py",
   "mimetype": "text/x-python",
   "name": "python",
   "nbconvert_exporter": "python",
   "pygments_lexer": "ipython3",
   "version": "3.9.7"
  }
 },
 "nbformat": 4,
 "nbformat_minor": 5
}
