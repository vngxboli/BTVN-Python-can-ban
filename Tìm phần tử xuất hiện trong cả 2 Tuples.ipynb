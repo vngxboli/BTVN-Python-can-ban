{
 "cells": [
  {
   "cell_type": "code",
   "execution_count": 21,
   "id": "b908dad0",
   "metadata": {},
   "outputs": [
    {
     "name": "stdout",
     "output_type": "stream",
     "text": [
      "Nhập số phần tử của tuple: 10\n",
      "(17, 9, 66, 52, 24, 35, 69, 34, 50, 28)\n",
      "(34, 18, 132, 104, 48, 70, 138, 68, 100, 56)\n"
     ]
    }
   ],
   "source": [
    "#Khởi tạo 2 tuple với tuple thứ nhất gồm n phần tử số nguyên bất kỳ. \n",
    "#Tuple thứ 2 cũng gồm n phần tử mà mỗi phần tử có giá trị gấp đôi phần tử ở vị trí tương ứng trong tuple 1. \n",
    "#Tìm những phần tử xuất hiện cả trong 2 tuple.\n",
    "import random\n",
    "n = int(input('Nhập số phần tử của tuple: '))\n",
    "mytuple = []\n",
    "mytuple1 = []\n",
    "\n",
    "for i in range(n):\n",
    "    num = random.choice([i for i in range(100)])\n",
    "    mytuple.append(num)\n",
    "\n",
    "for j in mytuple:\n",
    "    j = 2*j\n",
    "    mytuple1.append(j)\n",
    "    \n",
    "mytuple = tuple(mytuple)\n",
    "mytuple1 = tuple(mytuple1)\n",
    "print(mytuple)\n",
    "print(mytuple1)"
   ]
  },
  {
   "cell_type": "code",
   "execution_count": null,
   "id": "29ea4f29",
   "metadata": {},
   "outputs": [],
   "source": []
  }
 ],
 "metadata": {
  "kernelspec": {
   "display_name": "Python 3 (ipykernel)",
   "language": "python",
   "name": "python3"
  },
  "language_info": {
   "codemirror_mode": {
    "name": "ipython",
    "version": 3
   },
   "file_extension": ".py",
   "mimetype": "text/x-python",
   "name": "python",
   "nbconvert_exporter": "python",
   "pygments_lexer": "ipython3",
   "version": "3.9.7"
  }
 },
 "nbformat": 4,
 "nbformat_minor": 5
}
