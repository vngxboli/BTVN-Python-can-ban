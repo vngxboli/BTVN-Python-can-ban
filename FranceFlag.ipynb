{
 "cells": [
  {
   "cell_type": "code",
   "execution_count": null,
   "id": "d96bca83",
   "metadata": {},
   "outputs": [],
   "source": [
    "import turtle\n",
    "tl = turtle.Turtle()\n",
    "\n",
    "width = 300\n",
    "height = 200\n",
    "\n",
    "tl.fillcolor(\"red\")\n",
    "tl.begin_fill()\n",
    "tl.forward(width/3)\n",
    "tl.right(90)\n",
    "tl.forward(height)\n",
    "tl.right(90)\n",
    "tl.forward(width/3)\n",
    "tl.right(90)\n",
    "tl.forward(height)\n",
    "tl.end_fill()\n",
    "\n",
    "tl.fillcolor(\"blue\")\n",
    "tl.begin_fill()\n",
    "tl.right(90)\n",
    "tl.forward(width)\n",
    "tl.right(90)\n",
    "tl.forward(height)\n",
    "tl.right(90)\n",
    "tl.forward(width/3)\n",
    "tl.right(90)\n",
    "tl.forward(height)\n",
    "tl.end_fill()\n",
    "tl.backward(height)\n",
    "tl.left(90)\n",
    "tl.forward(width/3)\n",
    "\n",
    "turtle.done()"
   ]
  },
  {
   "cell_type": "code",
   "execution_count": null,
   "id": "91be9d5f",
   "metadata": {},
   "outputs": [],
   "source": []
  }
 ],
 "metadata": {
  "kernelspec": {
   "display_name": "Python 3 (ipykernel)",
   "language": "python",
   "name": "python3"
  },
  "language_info": {
   "codemirror_mode": {
    "name": "ipython",
    "version": 3
   },
   "file_extension": ".py",
   "mimetype": "text/x-python",
   "name": "python",
   "nbconvert_exporter": "python",
   "pygments_lexer": "ipython3",
   "version": "3.9.7"
  }
 },
 "nbformat": 4,
 "nbformat_minor": 5
}
