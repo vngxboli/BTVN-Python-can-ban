{
 "cells": [
  {
   "cell_type": "code",
   "execution_count": 1,
   "id": "b69de5aa",
   "metadata": {},
   "outputs": [
    {
     "name": "stdout",
     "output_type": "stream",
     "text": [
      "20029\n"
     ]
    }
   ],
   "source": [
    "#gán biến độ dài hình hộp chữ nhật & hình lập phương\n",
    "x = 111\n",
    "y = 87\n",
    "z = 56\n",
    "a = 3\n",
    "\n",
    "#tính thể tích hình hộp chữ nhật & hình lập phương\n",
    "rectangular_volume = x*y*z\n",
    "cube_volume = a**3\n",
    "\n",
    "#tính số lượng hình lập phương tối đa vừa trong hình hộp chữ nhật\n",
    "no_of_cube = (rectangular_volume)//(cube_volume)\n",
    "print(no_of_cube)"
   ]
  },
  {
   "cell_type": "code",
   "execution_count": null,
   "id": "6c79fd60",
   "metadata": {},
   "outputs": [],
   "source": []
  }
 ],
 "metadata": {
  "kernelspec": {
   "display_name": "Python 3 (ipykernel)",
   "language": "python",
   "name": "python3"
  },
  "language_info": {
   "codemirror_mode": {
    "name": "ipython",
    "version": 3
   },
   "file_extension": ".py",
   "mimetype": "text/x-python",
   "name": "python",
   "nbconvert_exporter": "python",
   "pygments_lexer": "ipython3",
   "version": "3.9.7"
  }
 },
 "nbformat": 4,
 "nbformat_minor": 5
}
