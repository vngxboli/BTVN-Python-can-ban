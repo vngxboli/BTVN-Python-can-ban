{
 "cells": [
  {
   "cell_type": "code",
   "execution_count": 1,
   "id": "a9c46ec8",
   "metadata": {},
   "outputs": [
    {
     "name": "stdout",
     "output_type": "stream",
     "text": [
      "Hình hộp chữ nhật chứa được tối đa 19314 hình lập phương\n"
     ]
    }
   ],
   "source": [
    "#gán biến độ dài hình hộp chữ nhật & hình lập phương\n",
    "x = 111\n",
    "y = 87\n",
    "z = 56\n",
    "a = 3\n",
    "\n",
    "#sức chứa tối đa của HHCN tương đương với mỗi cạnh của HHCN chứa được tối đa bao nhiêu HLP (lấy phần nguyên)\n",
    "b = x//a\n",
    "c = y//a\n",
    "d = z//a\n",
    "suc_chua_toi_da = b*c*d\n",
    "\n",
    "print(\"Hình hộp chữ nhật chứa được tối đa\", suc_chua_toi_da, \"hình lập phương\")"
   ]
  },
  {
   "cell_type": "code",
   "execution_count": null,
   "id": "29cdf372",
   "metadata": {},
   "outputs": [],
   "source": []
  }
 ],
 "metadata": {
  "kernelspec": {
   "display_name": "Python 3 (ipykernel)",
   "language": "python",
   "name": "python3"
  },
  "language_info": {
   "codemirror_mode": {
    "name": "ipython",
    "version": 3
   },
   "file_extension": ".py",
   "mimetype": "text/x-python",
   "name": "python",
   "nbconvert_exporter": "python",
   "pygments_lexer": "ipython3",
   "version": "3.9.7"
  }
 },
 "nbformat": 4,
 "nbformat_minor": 5
}
