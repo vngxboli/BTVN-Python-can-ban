{
 "cells": [
  {
   "cell_type": "code",
   "execution_count": 8,
   "id": "75328c62",
   "metadata": {},
   "outputs": [
    {
     "name": "stdout",
     "output_type": "stream",
     "text": [
      "Nhập Họ và Tên:        vŨ nGuYễN bỘi\n",
      "Vũ Nguyễn Bội\n"
     ]
    }
   ],
   "source": [
    "#Cách 1 (chữa trên lớp)\n",
    "fullname = input(\"Nhập Họ và Tên: \")\n",
    "fullname = fullname.strip()\n",
    "fullname = fullname.split()\n",
    "\n",
    "#gán firstname là giá trị thứ tự thứ 0 trong list được tạo ra bởi hàm split\n",
    "firstname = fullname[0]\n",
    "surname = fullname[1]\n",
    "lastname = fullname[2]\n",
    "\n",
    "firstname = \"{first_char}{remain}\".format(first_char = firstname[0].upper(), remain = firstname[1:].lower())\n",
    "surname = \"{first_char}{remain}\".format(first_char = surname[0].upper(), remain = surname[1:].lower())\n",
    "lastname = \"{first_char}{remain}\".format(first_char = lastname[0].upper(), remain = lastname[1:].lower())\n",
    "\n",
    "print(firstname, surname, lastname)\n",
    "\n",
    "#Cách 2 (google):\n",
    "#name = input(\"Nhập Họ và Tên: \")\n",
    "#name = name.strip()\n",
    "#import string\n",
    "#name = string.capwords(name)\n",
    "#print(\"Tên đúng định dạng là:\", name)"
   ]
  },
  {
   "cell_type": "code",
   "execution_count": null,
   "id": "e2e33092",
   "metadata": {},
   "outputs": [],
   "source": []
  }
 ],
 "metadata": {
  "kernelspec": {
   "display_name": "Python 3 (ipykernel)",
   "language": "python",
   "name": "python3"
  },
  "language_info": {
   "codemirror_mode": {
    "name": "ipython",
    "version": 3
   },
   "file_extension": ".py",
   "mimetype": "text/x-python",
   "name": "python",
   "nbconvert_exporter": "python",
   "pygments_lexer": "ipython3",
   "version": "3.9.7"
  }
 },
 "nbformat": 4,
 "nbformat_minor": 5
}
