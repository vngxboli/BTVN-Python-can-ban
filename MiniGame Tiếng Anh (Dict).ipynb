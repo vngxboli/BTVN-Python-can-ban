{
 "cells": [
  {
   "cell_type": "code",
   "execution_count": 4,
   "id": "3c9fd479",
   "metadata": {},
   "outputs": [
    {
     "name": "stdout",
     "output_type": "stream",
     "text": [
      "Nhập \"Bắt đầu\" để chơi Minigame: Bắt đầu\n",
      "=========\n",
      "Từ này nghĩa là gì? Two\n",
      "Nhập nghĩa tiếng Việt: Hai\n",
      "Đúng\n",
      "=========\n",
      "Từ này nghĩa là gì? Ten\n",
      "Nhập nghĩa tiếng Việt: Mười\n",
      "Đúng\n",
      "=========\n",
      "Từ này nghĩa là gì? Three\n",
      "Nhập nghĩa tiếng Việt: Ba\n",
      "Đúng\n",
      "=========\n",
      "Từ này nghĩa là gì? Two\n",
      "Nhập nghĩa tiếng Việt: Hai\n",
      "Đúng\n",
      "=========\n",
      "Từ này nghĩa là gì? Ten\n",
      "Nhập nghĩa tiếng Việt: Mười\n",
      "Đúng\n",
      "=========\n",
      "Từ này nghĩa là gì? Nine\n",
      "Nhập nghĩa tiếng Việt: Quit\n",
      "Kết thúc Minigame\n",
      "Tổng điểm của bạn là:  5\n"
     ]
    }
   ],
   "source": [
    "#Viết một minigame kiểm tra từ mới tiếng Anh\n",
    "#Mỗi lần chơi, màn hình sẽ hiển thị từ tiếng Anh\n",
    "#và yêu cầu người dùng nhập vào nghĩa tiếng Việt\n",
    "#nếu đúng --> Hiển thị ĐÚNG và Cộng điểm\n",
    "#nếu sai --> Hiển thị SAI và Không cộng điểm\n",
    "#sau mỗi lần chương trình đánh giá kết quả đúng hay sai\n",
    "#từ mới tiếng Anh khác lại xuất hiện\n",
    "#và cứ lặp lại như thế đến khi người dùng nhập từ Quit\n",
    "\n",
    "import random\n",
    "\n",
    "#Bước 1: Tạo dictionary chứa các cặp từ tiếng Anh và tiếng Việt\n",
    "dictionary = {'One': 'Một', 'Two': 'Hai', 'Three': 'Ba', 'Four': 'Bốn', 'Five': 'Năm', 'Six': 'Sáu', 'Seven': 'Bảy', 'Eight': 'Tám', 'Nine': 'Chín', 'Ten': 'Mười'}\n",
    "\n",
    "#Bước 2: Tạo vòng lặp hiển thị random 1 Key hoặc Value của Dict\n",
    "answer = input('Nhập \"Bắt đầu\" để chơi Minigame: ')\n",
    "print('=========')\n",
    "\n",
    "def isNotBlank(myString):\n",
    "    '''hàm kiểm tra answer có rỗng hay không?'''\n",
    "    if myString and myString.strip():\n",
    "        #myString is not None AND myString is not empty or blank\n",
    "        return True\n",
    "    #myString is None OR myString is empty or blank\n",
    "    return False\n",
    "test = isNotBlank(answer)\n",
    "mark = 0\n",
    "\n",
    "#vòng lặp hiện từ tiếng Anh, vòng lặp chỉ chạy khi người dùng điền bất cứ ký tự nào vào Answer\n",
    "while test:\n",
    "    english = random.choice([i for i in dictionary.keys()])\n",
    "    print('Từ này nghĩa là gì?', english)\n",
    "    answer = input('Nhập nghĩa tiếng Việt: ')\n",
    "    if answer != dictionary.get(english) and answer != 'Quit':\n",
    "        print('Sai')\n",
    "        mark-=1\n",
    "    if answer == dictionary.get(english):\n",
    "        print('Đúng')\n",
    "        mark+=1\n",
    "    if answer == 'Quit':\n",
    "        print('Kết thúc Minigame')\n",
    "        print('Tổng điểm của bạn là: ',mark)\n",
    "        break\n",
    "    print('=========')\n",
    "\n",
    "#Bước 3: So sánh từ tiếng Việt được nhập vào với từ tiếng Anh hiện ra"
   ]
  },
  {
   "cell_type": "code",
   "execution_count": null,
   "id": "f2b1ac25",
   "metadata": {},
   "outputs": [],
   "source": []
  }
 ],
 "metadata": {
  "kernelspec": {
   "display_name": "Python 3 (ipykernel)",
   "language": "python",
   "name": "python3"
  },
  "language_info": {
   "codemirror_mode": {
    "name": "ipython",
    "version": 3
   },
   "file_extension": ".py",
   "mimetype": "text/x-python",
   "name": "python",
   "nbconvert_exporter": "python",
   "pygments_lexer": "ipython3",
   "version": "3.9.7"
  }
 },
 "nbformat": 4,
 "nbformat_minor": 5
}
