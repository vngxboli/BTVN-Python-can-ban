{
 "cells": [
  {
   "cell_type": "code",
   "execution_count": 12,
   "id": "f7be6385",
   "metadata": {},
   "outputs": [
    {
     "name": "stdout",
     "output_type": "stream",
     "text": [
      "Nhập chuỗi ký tự bất kỳ: uonqehvioncq\n",
      "Chuỗi có chứa ký tự nguyên âm không? True\n"
     ]
    }
   ],
   "source": [
    "num = input(\"Nhập chuỗi ký tự bất kỳ: \")\n",
    "kiemtra = \"A\" in num or \"a\" in num or \"U\" in num or \"u\" in num or \"E\" in num or \"e\" in num or \"O\" in num or \"o\" in num or \"I\" in num or \"i\" in num\n",
    "print (\"Chuỗi có chứa ký tự nguyên âm không?\", kiemtra)"
   ]
  },
  {
   "cell_type": "code",
   "execution_count": null,
   "id": "f2429b73",
   "metadata": {},
   "outputs": [],
   "source": []
  }
 ],
 "metadata": {
  "kernelspec": {
   "display_name": "Python 3 (ipykernel)",
   "language": "python",
   "name": "python3"
  },
  "language_info": {
   "codemirror_mode": {
    "name": "ipython",
    "version": 3
   },
   "file_extension": ".py",
   "mimetype": "text/x-python",
   "name": "python",
   "nbconvert_exporter": "python",
   "pygments_lexer": "ipython3",
   "version": "3.9.7"
  }
 },
 "nbformat": 4,
 "nbformat_minor": 5
}
