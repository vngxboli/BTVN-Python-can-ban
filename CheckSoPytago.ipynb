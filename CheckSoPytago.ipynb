{
 "cells": [
  {
   "cell_type": "code",
   "execution_count": 12,
   "id": "43f2506e",
   "metadata": {},
   "outputs": [
    {
     "name": "stdout",
     "output_type": "stream",
     "text": [
      "Nhập số bất kỳ: -3\n",
      "Nhập số bất kỳ: 4\n",
      "Nhập số bất kỳ: 5\n",
      "Ba số -3 , 4 , 5 tạo thành 1 bộ số Pytago\n"
     ]
    }
   ],
   "source": [
    "#Bài 1: Nhập vào 3 số tự nhiên, kiểm tra 3 số có tạo thành bộ số Pytago hay không:\n",
    "a = int(input(\"Nhập số bất kỳ: \"))\n",
    "b= int(input(\"Nhập số bất kỳ: \"))\n",
    "c = int(input(\"Nhập số bất kỳ: \"))\n",
    "d = a**2 + b**2\n",
    "e = c**2\n",
    "\n",
    "if a**2 + b**2 == c**2 or a**2 + b**2 == c**2 or a**2 + b**2 == c**2:\n",
    "    print(\"Ba số\",a,\",\",b,\",\", c,\"tạo thành 1 bộ số Pytago\")\n",
    "else:\n",
    "    print(\"Ba số\",a,\",\",b,\",\", c,\"không tạo thành 1 bộ số Pytago\")"
   ]
  }
 ],
 "metadata": {
  "kernelspec": {
   "display_name": "Python 3 (ipykernel)",
   "language": "python",
   "name": "python3"
  },
  "language_info": {
   "codemirror_mode": {
    "name": "ipython",
    "version": 3
   },
   "file_extension": ".py",
   "mimetype": "text/x-python",
   "name": "python",
   "nbconvert_exporter": "python",
   "pygments_lexer": "ipython3",
   "version": "3.9.7"
  }
 },
 "nbformat": 4,
 "nbformat_minor": 5
}
