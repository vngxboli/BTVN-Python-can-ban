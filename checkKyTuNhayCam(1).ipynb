{
 "cells": [
  {
   "cell_type": "code",
   "execution_count": 34,
   "id": "69437672",
   "metadata": {},
   "outputs": [
    {
     "name": "stdout",
     "output_type": "stream",
     "text": [
      "Nhập post gồm 3 câu: Violence can't be in the name of love. C.h.i.l.d.a.b.u.s.e is a crime. Stop being r,a,c,i,s,t!!!\n",
      "violence can't be in the name of love. c.h.i.l.d.a.b.u.s.e is a crime. stop being r,a,c,i,s,t!!!\n",
      "Câu 1:  violence can't be in the name of love\n",
      "Câu 2:  c.h.i.l.d.a.b.u.s.e is a crime\n",
      "Câu 3:  stop being r,a,c,i,s,t!!!\n",
      "Post có hợp lệ không? False\n"
     ]
    }
   ],
   "source": [
    "#viết post gồm 3 câu:\n",
    "post = input(\"Nhập post gồm 3 câu: \")\n",
    "\n",
    "#tách post thành 3 câu:\n",
    "sentences = post.lower()\n",
    "sentence = sentences.split(\". \")\n",
    "print(sentences)\n",
    "\n",
    "#lấy từng câu ra:\n",
    "sentence1 = sentence[0]\n",
    "sentence2 = sentence[1]\n",
    "sentence3 = sentence[2]\n",
    "print(\"Câu 1: \", sentence1)\n",
    "print(\"Câu 2: \", sentence2)\n",
    "print(\"Câu 3: \", sentence3)\n",
    "\n",
    "#check từng từ nhạy cảm:\n",
    "check_sex = ('sex' not in sentence1) and ('sex'not in sentence2) and ('sex' not in sentence3)\n",
    "check_racist = ('racist' not in sentence1) and ('racist'not in sentence2) and ('racist' not in sentence3)\n",
    "check_violence = ('violence' not in sentence1) and ('violence'not in sentence2) and ('violence' not in sentence3)\n",
    "check_child_abuse = ('child abuse' not in sentence1) and ('child abuse'not in sentence2) and ('child abuse' not in sentence3)\n",
    "\n",
    "#check tất cả các từ nhạy cảm\n",
    "check_all = check_sex and check_racist and check_violence and check_child_abuse\n",
    "\n",
    "print(\"Post có hợp lệ không?\", check_all)"
   ]
  },
  {
   "cell_type": "code",
   "execution_count": null,
   "id": "bbd8abdb",
   "metadata": {},
   "outputs": [],
   "source": []
  }
 ],
 "metadata": {
  "kernelspec": {
   "display_name": "Python 3 (ipykernel)",
   "language": "python",
   "name": "python3"
  },
  "language_info": {
   "codemirror_mode": {
    "name": "ipython",
    "version": 3
   },
   "file_extension": ".py",
   "mimetype": "text/x-python",
   "name": "python",
   "nbconvert_exporter": "python",
   "pygments_lexer": "ipython3",
   "version": "3.9.7"
  }
 },
 "nbformat": 4,
 "nbformat_minor": 5
}
