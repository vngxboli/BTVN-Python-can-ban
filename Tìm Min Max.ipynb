{
 "cells": [
  {
   "cell_type": "code",
   "execution_count": 5,
   "id": "3d99d134",
   "metadata": {},
   "outputs": [
    {
     "name": "stdout",
     "output_type": "stream",
     "text": [
      "Nhập số đầu tiên: 54\n",
      "Nhập số thứ hai: 6\n",
      "Nhập số thứ ba: 1\n",
      "Số lớn nhất là 54\n",
      "Số bé nhất là 1\n"
     ]
    }
   ],
   "source": [
    "#Nhập vào 3 số. Tìm số lớn nhất và nhỏ nhất:\n",
    "\n",
    "#Cách 1:\n",
    "a = int(input(\"Nhập số đầu tiên: \"))\n",
    "b = int(input(\"Nhập số thứ hai: \"))\n",
    "c = int(input(\"Nhập số thứ ba: \"))\n",
    "\n",
    "if a>=b:\n",
    "    if a>=c:\n",
    "        maximum = a\n",
    "    else:\n",
    "        maximum = c\n",
    "else:\n",
    "    if b>=c:\n",
    "        maximum = b\n",
    "    else:\n",
    "        maximum = c\n",
    "        \n",
    "if a<=b:\n",
    "    if a>=c:\n",
    "        minimum = c\n",
    "    else:\n",
    "        minimum = a\n",
    "else:\n",
    "    if b>=c:\n",
    "        minimum = c\n",
    "    else: minimum = b\n",
    "        \n",
    "print(\"Số lớn nhất là {0}\".format(maximum))\n",
    "print(\"Số bé nhất là {0}\".format(minimum))"
   ]
  },
  {
   "cell_type": "code",
   "execution_count": 9,
   "id": "49551e62",
   "metadata": {},
   "outputs": [
    {
     "name": "stdout",
     "output_type": "stream",
     "text": [
      "Nhập 3 số bất kỳ: 13 adv 233\n",
      "Phải nhập 3 ký tự là số!\n"
     ]
    }
   ],
   "source": [
    "#Cách 2: \n",
    "new = input(\"Nhập 3 số bất kỳ: \").strip()\n",
    "numbers = new.split(\" \")\n",
    "\n",
    "a = (numbers[0])\n",
    "b = (numbers[1])\n",
    "c = (numbers[2])\n",
    "\n",
    "#đảm bảo điều kiện các ký tự nhập vào là số:\n",
    "if a.isdigit()==True and b.isdigit()==True and c.isdigit()==True:\n",
    "    a = float(numbers[0])\n",
    "    b = float(numbers[1])\n",
    "    c = float(numbers[2])\n",
    "    if a>=b:\n",
    "        if a>=c:\n",
    "            maximum = a\n",
    "        else:\n",
    "            maximum = c\n",
    "    else:\n",
    "        if b>=c:\n",
    "            maximum = b\n",
    "        else:\n",
    "            maximum = c\n",
    "\n",
    "    if a<=b:\n",
    "        if a>=c:\n",
    "            minimum = c\n",
    "        else:\n",
    "            minimum = a\n",
    "    else:\n",
    "        if b>=c:\n",
    "            minimum = c\n",
    "        else: minimum = b\n",
    "    print(\"Số lớn nhất là {0}\".format(maximum))\n",
    "    print(\"Số bé nhất là {0}\".format(minimum))\n",
    "else: \n",
    "    print(\"Phải nhập 3 ký tự là số!\")"
   ]
  },
  {
   "cell_type": "code",
   "execution_count": null,
   "id": "a8e1963a",
   "metadata": {},
   "outputs": [],
   "source": []
  }
 ],
 "metadata": {
  "kernelspec": {
   "display_name": "Python 3 (ipykernel)",
   "language": "python",
   "name": "python3"
  },
  "language_info": {
   "codemirror_mode": {
    "name": "ipython",
    "version": 3
   },
   "file_extension": ".py",
   "mimetype": "text/x-python",
   "name": "python",
   "nbconvert_exporter": "python",
   "pygments_lexer": "ipython3",
   "version": "3.9.7"
  }
 },
 "nbformat": 4,
 "nbformat_minor": 5
}
