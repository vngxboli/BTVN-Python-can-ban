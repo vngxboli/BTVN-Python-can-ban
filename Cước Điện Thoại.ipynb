{
 "cells": [
  {
   "cell_type": "code",
   "execution_count": 17,
   "id": "d63d2c7e",
   "metadata": {},
   "outputs": [
    {
     "name": "stdout",
     "output_type": "stream",
     "text": [
      "Nhập số phút gọi: 70\n",
      "Cước điện thoại là: 63000 (VNĐ)\n"
     ]
    }
   ],
   "source": [
    "#Bài 2: Viết chương trình để tính cước điện thoại bàn cho một hộ gia đình. \n",
    "#Biết rằng phí thuê bao bắt buộc là 25 nghìn, 600 đồng cho mỗi gọi của 50 phút đầu tiên, \n",
    "#400 đồng cho mỗi phút gọi của 150 phút tiếp theo, 200 đồng cho bất kỳ mỗi phút nào sau 200 phút đầu tiên. \n",
    "#Nhập vào số phút gọi, tính số tiền mà hộ gia đình đó phải trả!\n",
    "\n",
    "time = int(input(\"Nhập số phút gọi: \"))\n",
    "cuoc = 25000\n",
    "#x = 25000 + 600*time\n",
    "#y = 25000 + (600*50) + (400*(time-50))\n",
    "#z = 25000 + 600*50 + 400*150 + (200*(time-200))\n",
    "#print(x, y, z)\n",
    "\n",
    "if time < 0:\n",
    "    print(\"Dữ liệu đầu vào sai\")\n",
    "elif (0 <= time <= 50):\n",
    "    cuoc += 600*time\n",
    "elif (50< time <= 200):\n",
    "    cuoc += 600*50 + (400*(time-50))\n",
    "else:\n",
    "    cuoc += 600*50 + 400*150 + (200*(time-200))\n",
    "print(\"Cước điện thoại là: {0} (VNĐ)\".format(cuoc))"
   ]
  }
 ],
 "metadata": {
  "kernelspec": {
   "display_name": "Python 3 (ipykernel)",
   "language": "python",
   "name": "python3"
  },
  "language_info": {
   "codemirror_mode": {
    "name": "ipython",
    "version": 3
   },
   "file_extension": ".py",
   "mimetype": "text/x-python",
   "name": "python",
   "nbconvert_exporter": "python",
   "pygments_lexer": "ipython3",
   "version": "3.9.7"
  }
 },
 "nbformat": 4,
 "nbformat_minor": 5
}
