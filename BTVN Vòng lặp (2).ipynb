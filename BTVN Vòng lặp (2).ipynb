{
 "cells": [
  {
   "cell_type": "code",
   "execution_count": null,
   "id": "158c5735",
   "metadata": {
    "scrolled": true
   },
   "outputs": [],
   "source": [
    "#Bài 1: NHập một số tự nhiên N. Vẽ N hình sao trên turtle\n",
    "N = int(input('N = '))\n",
    "\n",
    "import turtle\n",
    "tl = turtle.Turtle()\n",
    "tl.speed(10)\n",
    "\n",
    "for i in range(1,N+1):\n",
    "    for j in range(1,6):\n",
    "        tl.forward(100)\n",
    "        tl.right(144)\n",
    "    tl.penup()\n",
    "    tl.forward(200)\n",
    "    tl.pendown()\n",
    "\n",
    "turtle.done()"
   ]
  },
  {
   "cell_type": "code",
   "execution_count": null,
   "id": "9f2a4538",
   "metadata": {},
   "outputs": [],
   "source": [
    "#Bài 2: Trong các phần mềm quản lý nhân sự, chức năng tìm kiếm thông tin nhân sự thông qua tên của nhân viên là một chức năng quan trọng của phần mềm. \n",
    "#Chức năng có khả năng tìm kiếm khi người dùng nhập vào tên tiếng Việt có dấu hoặc kể cả không có dấu. \n",
    "#Để làm điều đó, khi nhập vào dữ liệu là tiếng Việt có dấu được chuyển sang dữ liệu tiếng Việt không có dấu. \n",
    "#Viết chương trình chuyển tiếng Việt có dấu sang tiếng Việt không có dấu. \n",
    "#Ví dụ: Nhập vào là \"Nguyễn văn bình\" thì kết quả là \"Nguyen van binh\".\n",
    "\n",
    "name = input('Tìm kiếm tên: ')\n",
    "formatted_name = ''\n",
    "replace1 = ['Ă', 'ă', 'Ắ', 'ắ', 'Ẳ', 'ẳ', 'Â', 'â', 'Ấ', 'ấ', 'Ầ', 'ầ' 'Ẩ', 'ẩ', 'Ẫ', 'ẫ', 'Ậ', 'ậ']\n",
    "replace2 = ['Đ', 'đ']\n",
    "replace3 = ['Ê', 'ê', 'Ế', 'ế', 'Ề', 'ề', 'Ể', 'ể', 'Ễ', 'ễ', 'Ệ', 'ệ']\n",
    "replace4 = ['Í', 'í', 'Ì', 'ì', 'Ỉ', 'ỉ', 'Ĩ', 'ĩ', 'Ị', 'ị']\n",
    "replace5 = ['Ó', 'ó', 'Ò', 'ò', 'Ỏ', 'ỏ', 'Õ', 'õ', 'Ọ', 'ọ', 'Ô', 'ô', 'Ố', 'ố', 'Ồ', 'ồ', 'Ổ', 'ổ', 'Ỗ', 'ỗ', 'Ộ', 'ộ', 'Ơ', 'ơ', 'Ớ', 'ớ', 'Ờ', 'ờ', 'Ở', 'ở', 'Ỡ', 'ỡ', 'Ợ', 'ợ']\n",
    "replace6 = ['Ú', 'ú', 'Ù', 'ù', 'Ủ', 'ủ', 'Ũ', 'ũ', 'Ụ', 'ụ', 'Ư', 'ư', 'Ứ', 'ứ', 'Ừ', 'ừ', 'Ử', 'ử', 'Ữ', 'ữ', 'Ự', 'ự']\n",
    "replace7 = ['Ý', 'ý', 'Ỳ', 'ỳ', 'Ỷ', 'ỷ', 'Ỹ', 'ỹ', 'Ỵ', 'ỵ']\n",
    "\n",
    "for i in name:\n",
    "    if i in replace1:\n",
    "        i = 'a'\n",
    "    if i in replace2:\n",
    "        i = 'd'\n",
    "    if i in replace3:\n",
    "        i = 'e'\n",
    "    if i in replace4:\n",
    "        i = 'i'\n",
    "    if i in replace5:\n",
    "        i = 'o'\n",
    "    if i in replace6:\n",
    "        i = 'u'\n",
    "    if i in replace7:\n",
    "        i = 'y'\n",
    "    else:\n",
    "        i = i\n",
    "    formatted_name += i\n",
    "print(formatted_name)"
   ]
  },
  {
   "cell_type": "code",
   "execution_count": null,
   "id": "07017921",
   "metadata": {},
   "outputs": [],
   "source": []
  }
 ],
 "metadata": {
  "kernelspec": {
   "display_name": "Python 3 (ipykernel)",
   "language": "python",
   "name": "python3"
  },
  "language_info": {
   "codemirror_mode": {
    "name": "ipython",
    "version": 3
   },
   "file_extension": ".py",
   "mimetype": "text/x-python",
   "name": "python",
   "nbconvert_exporter": "python",
   "pygments_lexer": "ipython3",
   "version": "3.9.7"
  }
 },
 "nbformat": 4,
 "nbformat_minor": 5
}
