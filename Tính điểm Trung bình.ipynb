{
 "cells": [
  {
   "cell_type": "code",
   "execution_count": 2,
   "id": "f5ee1afc",
   "metadata": {},
   "outputs": [
    {
     "name": "stdout",
     "output_type": "stream",
     "text": [
      "Nhập điểm 15 phút: 5\n",
      "Nhập điểm giữa kỳ: 7\n",
      "Nhập điểm cuối kỳ: 8\n",
      "Loại Khá\n"
     ]
    }
   ],
   "source": [
    "#Bài 1: Điểm thành phần của một môn học gồm: \n",
    "#điểm 15 phút hệ số 1, điểm kiểm tra giữa kì hệ số 1,5 và điểm kiểm tra cuối kì hệ số 2. \n",
    "#Nhập vào các điểm thành phần môn Toán của một học sinh. \n",
    "#Xếp loại điểm môn Toán biết nếu điểm tổng kết thang điểm 10 của môn Toán >= 8 thì loại giỏi\n",
    "#, 8>đtb>=6,5 thì loại khá, 6,5>đtb>=5 thì loại Trung bình, nhỏ hơn 5 thì loại yếu, còn lại thì lỗi nhập dữ liệu.\n",
    "\n",
    "test = int(input(\"Nhập điểm 15 phút: \"))\n",
    "midterm = int(input(\"Nhập điểm giữa kỳ: \"))\n",
    "final = int(input(\"Nhập điểm cuối kỳ: \"))\n",
    "\n",
    "average = (test + midterm*1.5 + final*2) / 4.5\n",
    "\n",
    "if average >=8:\n",
    "    print(\"Loại Giỏi\")\n",
    "elif 6.5<=average<8:\n",
    "   print(\"Loại Khá\")\n",
    "elif 5<=average<6.5:\n",
    "   print(\"Loại Trung bình\")\n",
    "elif average<5:\n",
    "   print(\"Loại Yếu\")\n",
    "else:\n",
    "   print(\"Lỗi nhập dữ liệu\")"
   ]
  },
  {
   "cell_type": "code",
   "execution_count": null,
   "id": "4320958e",
   "metadata": {},
   "outputs": [],
   "source": []
  }
 ],
 "metadata": {
  "kernelspec": {
   "display_name": "Python 3 (ipykernel)",
   "language": "python",
   "name": "python3"
  },
  "language_info": {
   "codemirror_mode": {
    "name": "ipython",
    "version": 3
   },
   "file_extension": ".py",
   "mimetype": "text/x-python",
   "name": "python",
   "nbconvert_exporter": "python",
   "pygments_lexer": "ipython3",
   "version": "3.9.7"
  }
 },
 "nbformat": 4,
 "nbformat_minor": 5
}
