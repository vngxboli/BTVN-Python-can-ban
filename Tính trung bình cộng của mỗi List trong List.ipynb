{
 "cells": [
  {
   "cell_type": "code",
   "execution_count": 1,
   "id": "2c8b0525",
   "metadata": {},
   "outputs": [
    {
     "name": "stdout",
     "output_type": "stream",
     "text": [
      "Nhập số phần tử của List: 3\n",
      "Nhập số phần tử của subList: 4\n",
      "List A:  [[22, 26, 92, 14], [16, 41, 9, 82], [96, 76, 71, 55]]\n",
      "Giá trị trung bình của mỗi phần tử trong list A:  50.0\n"
     ]
    }
   ],
   "source": [
    "#Tạo 1 list A gồm m phần tử, mỗi phần tử của list A là một list khác gồm có n phần tử là các số tự nhiên. \n",
    "#Tính giá trị trung bình của mỗi phần tử trong list A đã cho.\n",
    "\n",
    "import random\n",
    "m = int(input('Nhập số phần tử của List: '))\n",
    "n = int(input('Nhập số phần tử của subList: '))\n",
    "listA = []\n",
    "for i in range(m):\n",
    "    subList = []\n",
    "    for j in range(n):\n",
    "        num = random.choice([i for i in range(100)])\n",
    "        subList.append(num)\n",
    "    listA.append(subList)\n",
    "print('List A: ', listA)\n",
    "\n",
    "tong = 0\n",
    "for j in listA:\n",
    "    for k in j:\n",
    "        tong+=k\n",
    "        average = tong/(m*n)\n",
    "print('Giá trị trung bình của mỗi phần tử trong list A: ', average)"
   ]
  },
  {
   "cell_type": "code",
   "execution_count": null,
   "id": "a753c94a",
   "metadata": {},
   "outputs": [],
   "source": []
  }
 ],
 "metadata": {
  "kernelspec": {
   "display_name": "Python 3 (ipykernel)",
   "language": "python",
   "name": "python3"
  },
  "language_info": {
   "codemirror_mode": {
    "name": "ipython",
    "version": 3
   },
   "file_extension": ".py",
   "mimetype": "text/x-python",
   "name": "python",
   "nbconvert_exporter": "python",
   "pygments_lexer": "ipython3",
   "version": "3.9.7"
  }
 },
 "nbformat": 4,
 "nbformat_minor": 5
}
