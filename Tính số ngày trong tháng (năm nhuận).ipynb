{
 "cells": [
  {
   "cell_type": "code",
   "execution_count": 13,
   "id": "d9c03cc7",
   "metadata": {},
   "outputs": [
    {
     "name": "stdout",
     "output_type": "stream",
     "text": [
      "Nhập tháng: 2\n",
      "Nhập năm: 2020\n",
      "Tháng 2 năm 2020 có 29 ngày\n"
     ]
    }
   ],
   "source": [
    "#Nhập tháng năm và tính xem tháng có bao nhiêu ngày:\n",
    "# Chú ý: Năm nhuận tháng 2 có 29 ngày. Điều kiện để năm nhuận là: (1) Số năm chia hết cho 400 VÀ (2) Số năm chia hết cho 4 nhưng không chia hết cho 100\n",
    "\n",
    "thang = int(input(\"Nhập tháng: \"))\n",
    "nam = int(input(\"Nhập năm: \"))\n",
    "\n",
    "if thang == 1 or thang == 3 or thang == 5 or thang == 7 or thang == 8 or thang == 10 or thang == 12:\n",
    "    print(\"Tháng {0} năm {1} có 31 ngày\".format(thang, nam))\n",
    "elif thang == 4 or thang == 6 or thang == 9 or thang == 11:\n",
    "    print(\"Tháng {0} năm {1} có 30 ngày\".format(thang, nam))\n",
    "elif thang == 2:\n",
    "    if nam %400 == 0 or (nam%4 == 0 and nam%100 != 0):\n",
    "        print(\"Tháng {0} năm {1} có 29 ngày\".format(thang, nam))\n",
    "    else:\n",
    "        print(\"Tháng {0} năm {1} có 28 ngày\".format(thang, nam))\n",
    "else:\n",
    "    print(\"Dữ liệu đầu vào không hợp lệ\")"
   ]
  },
  {
   "cell_type": "code",
   "execution_count": null,
   "id": "322ca01d",
   "metadata": {},
   "outputs": [],
   "source": []
  },
  {
   "cell_type": "code",
   "execution_count": null,
   "id": "1bf8b539",
   "metadata": {},
   "outputs": [],
   "source": []
  }
 ],
 "metadata": {
  "kernelspec": {
   "display_name": "Python 3 (ipykernel)",
   "language": "python",
   "name": "python3"
  },
  "language_info": {
   "codemirror_mode": {
    "name": "ipython",
    "version": 3
   },
   "file_extension": ".py",
   "mimetype": "text/x-python",
   "name": "python",
   "nbconvert_exporter": "python",
   "pygments_lexer": "ipython3",
   "version": "3.9.7"
  }
 },
 "nbformat": 4,
 "nbformat_minor": 5
}
